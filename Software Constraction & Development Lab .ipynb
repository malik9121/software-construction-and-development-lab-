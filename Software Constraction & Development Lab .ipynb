{
 "cells": [
  {
   "cell_type": "code",
   "execution_count": 3,
   "id": "873e6709",
   "metadata": {},
   "outputs": [
    {
     "name": "stdout",
     "output_type": "stream",
     "text": [
      "Hello, World!\n"
     ]
    }
   ],
   "source": [
    "\n",
    "# Example 1: Hello World\n",
    "print(\"Hello, World!\")"
   ]
  },
  {
   "cell_type": "code",
   "execution_count": 5,
   "id": "52409fb9",
   "metadata": {},
   "outputs": [
    {
     "name": "stdout",
     "output_type": "stream",
     "text": [
      "Result: 3\n"
     ]
    }
   ],
   "source": [
    "# Example 2: Simple Calculator\n",
    "a = int(input(\"Enter first number: \"))\n",
    "op = input(\"Enter operator (+, -, *, /): \")\n",
    "b = int(input(\"Enter second number: \"))\n",
    "\n",
    "if op == '+':\n",
    "    print(\"Result:\", a + b)\n",
    "elif op == '-':\n",
    "    print(\"Result:\", a - b)\n",
    "elif op == '*':\n",
    "    print(\"Result:\", a * b)\n",
    "elif op == '/':\n",
    "    print(\"Result:\", a / b)\n",
    "\n",
    "# =========================================="
   ]
  },
  {
   "cell_type": "code",
   "execution_count": 6,
   "id": "c5149e24",
   "metadata": {},
   "outputs": [
    {
     "name": "stdout",
     "output_type": "stream",
     "text": [
      "12 is Even\n"
     ]
    }
   ],
   "source": [
    "\n",
    "# Example 3: Even/Odd Check\n",
    "num = int(input(\"Enter a number: \"))\n",
    "\n",
    "if num % 2 == 0:\n",
    "    print(num, \"is Even\")\n",
    "else:\n",
    "    print(num, \"is Odd\")\n",
    "\n",
    "# =========================================="
   ]
  },
  {
   "cell_type": "code",
   "execution_count": 7,
   "id": "b0765b2a",
   "metadata": {},
   "outputs": [
    {
     "name": "stdout",
     "output_type": "stream",
     "text": [
      "Sum = 78\n"
     ]
    }
   ],
   "source": [
    "\n",
    "# Example 4: Sum of N Numbers\n",
    "n = int(input(\"Enter n: \"))\n",
    "sum_total = 0\n",
    "\n",
    "for i in range(1, n + 1):\n",
    "    sum_total = sum_total + i\n",
    "\n",
    "print(\"Sum =\", sum_total)\n",
    "\n",
    "# =========================================="
   ]
  },
  {
   "cell_type": "code",
   "execution_count": 8,
   "id": "eeae939f",
   "metadata": {},
   "outputs": [
    {
     "name": "stdout",
     "output_type": "stream",
     "text": [
      "Enter 5 numbers:\n",
      "Your numbers are: [12, 2, 3, 4, 1]\n"
     ]
    }
   ],
   "source": [
    "# Example 5: List Input/Output\n",
    "numbers = []\n",
    "\n",
    "print(\"Enter 5 numbers:\")\n",
    "for i in range(5):\n",
    "    num = int(input())\n",
    "    numbers.append(num)\n",
    "\n",
    "print(\"Your numbers are:\", numbers)"
   ]
  },
  {
   "cell_type": "code",
   "execution_count": 9,
   "id": "07fc180f",
   "metadata": {},
   "outputs": [
    {
     "name": "stdout",
     "output_type": "stream",
     "text": [
      "Length: 3\n"
     ]
    }
   ],
   "source": [
    "# Example 6: String Length\n",
    "text = input(\"Enter a string: \")\n",
    "print(\"Length:\", len(text))"
   ]
  },
  {
   "cell_type": "code",
   "execution_count": 2,
   "id": "708126bf",
   "metadata": {},
   "outputs": [
    {
     "name": "stdout",
     "output_type": "stream",
     "text": [
      "2 x 1 = 2\n",
      "2 x 2 = 4\n",
      "2 x 3 = 6\n",
      "2 x 4 = 8\n",
      "2 x 5 = 10\n",
      "2 x 6 = 12\n",
      "2 x 7 = 14\n",
      "2 x 8 = 16\n",
      "2 x 9 = 18\n",
      "2 x 10 = 20\n"
     ]
    }
   ],
   "source": [
    "# Example 7: Table of Number\n",
    "n = int(input(\"Enter a number: \"))\n",
    "\n",
    "for i in range(1, 11):\n",
    "    print(f\"{n} x {i} = {n * i}\")\n",
    "\n",
    "# =========================================="
   ]
  },
  {
   "cell_type": "code",
   "execution_count": 10,
   "id": "bbeeff86",
   "metadata": {},
   "outputs": [
    {
     "name": "stdout",
     "output_type": "stream",
     "text": [
      "Factorial of 1 is 1\n"
     ]
    }
   ],
   "source": [
    "# Example 8: Factorial\n",
    "n = int(input(\"Enter a number: \"))\n",
    "factorial = 1\n",
    "\n",
    "for i in range(1, n + 1):\n",
    "    factorial = factorial * i\n",
    "\n",
    "print(\"Factorial of\", n, \"is\", factorial)"
   ]
  },
  {
   "cell_type": "code",
   "execution_count": 11,
   "id": "1f05039d",
   "metadata": {},
   "outputs": [
    {
     "name": "stdout",
     "output_type": "stream",
     "text": [
      "-.-.-.-.-.-.-.-.-.-.-.-.-.-.-.-.-Wellcome To My Python Calculator-.-.-.-.-.-.-.-.-.-.-.-.-.-.-.-.-.- \n",
      "--------------------------------------------------------------------------------------------------\n",
      "-------------------------Enter Operation Which u want To Perform--------------------------------- \n",
      "😂 🤪 🤫 😅 😍\n",
      "2.0  -  1.0  =  1.0\n",
      "Thanks for using Python Calculator!\n"
     ]
    }
   ],
   "source": [
    "print(\"-.-.-.-.-.-.-.-.-.-.-.-.-.-.-.-.-Wellcome To My Python Calculator-.-.-.-.-.-.-.-.-.-.-.-.-.-.-.-.-.- \")\n",
    "\n",
    "while True:   # loop to keep program running\n",
    "    try:\n",
    "        a = float(input(\"Enter your first No: \"))\n",
    "        b = float(input(\"Enter your Second No: \"))\n",
    "\n",
    "        print(\"--------------------------------------------------------------------------------------------------\")\n",
    "        print(\"-------------------------Enter Operation Which u want To Perform--------------------------------- \")\n",
    "        print(\"\\U0001f602 \\U0001f92a \\U0001f92b \\U0001f605 \\U0001f60d\")\n",
    "\n",
    "        c = input(\"( - , + , / , * ) : \")\n",
    "\n",
    "        if c == \"+\":\n",
    "            print(a, \" + \", b, \" = \", a + b)\n",
    "        elif c == \"-\":\n",
    "            print(a, \" - \", b, \" = \", a - b)\n",
    "        elif c == \"/\":\n",
    "            if b == 0:\n",
    "                print(\"Division by zero is not allowed!\")\n",
    "            else:\n",
    "                print(a, \" / \", b, \" = \", a / b)\n",
    "        elif c == \"*\":\n",
    "            print(a, \" * \", b, \" = \", a * b)\n",
    "        else:\n",
    "            print(\"You entered an invalid operation!\")\n",
    "\n",
    "        # Option to exit\n",
    "        again = input(\"Do you want to calculate again? (y/n): \")\n",
    "        if again.lower() != \"y\":\n",
    "            print(\"Thanks for using Python Calculator!\")\n",
    "            break\n",
    "\n",
    "    except ValueError:\n",
    "        print(\"You entered a wrong number. Please enter numeric values only!\")\n",
    "        continue  # loop will repeat if wrong input\n"
   ]
  },
  {
   "cell_type": "code",
   "execution_count": null,
   "id": "2b69459f",
   "metadata": {},
   "outputs": [],
   "source": []
  }
 ],
 "metadata": {
  "kernelspec": {
   "display_name": "Python 3",
   "language": "python",
   "name": "python3"
  },
  "language_info": {
   "codemirror_mode": {
    "name": "ipython",
    "version": 3
   },
   "file_extension": ".py",
   "mimetype": "text/x-python",
   "name": "python",
   "nbconvert_exporter": "python",
   "pygments_lexer": "ipython3",
   "version": "3.10.11"
  }
 },
 "nbformat": 4,
 "nbformat_minor": 5
}
